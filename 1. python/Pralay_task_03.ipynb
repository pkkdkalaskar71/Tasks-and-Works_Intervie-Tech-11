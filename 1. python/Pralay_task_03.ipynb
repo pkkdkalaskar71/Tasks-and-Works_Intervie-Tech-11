{
 "cells": [
  {
   "cell_type": "markdown",
   "id": "843be411-8106-4345-a0d9-c70f994cccd9",
   "metadata": {},
   "source": [
    "#### Pralay K Kalaskar\n",
    "#### (pkkdkalaskar71@gmail.com)\n",
    "#### +91-7066216365\n",
    "#### MOCK - 02 - (06-apr-2024)"
   ]
  },
  {
   "cell_type": "code",
   "execution_count": null,
   "id": "4588466d-871e-475f-a6db-0507f330a1df",
   "metadata": {},
   "outputs": [],
   "source": [
    "# riyaz@learninglabb.com #\n",
    "# https://meet.google.com/mya-fywy-dsr #"
   ]
  },
  {
   "cell_type": "code",
   "execution_count": 25,
   "id": "be145541-b053-4325-bc02-f4c386cfc2c2",
   "metadata": {},
   "outputs": [
    {
     "name": "stdin",
     "output_type": "stream",
     "text": [
      "Enter the word / string whose length you want to calculate :-  ***************\n"
     ]
    },
    {
     "name": "stdout",
     "output_type": "stream",
     "text": [
      "Length of string is :-  15\n"
     ]
    }
   ],
   "source": [
    "# Write a program to find the length of the string without using inbuilt function (len)\n",
    "#-------------------------------------------------------------------------------------#\n",
    "\n",
    "def find_length(string):\n",
    "    length = 0\n",
    "    for char in string:\n",
    "        length += 1\n",
    "    return length\n",
    "\n",
    "# Example usage:\n",
    "input_string = input(\"Enter the word / string whose length you want to calculate :- \")\n",
    "print(\"Length of string is :- \", find_length(input_string))\n"
   ]
  },
  {
   "cell_type": "code",
   "execution_count": 26,
   "id": "3f0b9b36-9d04-45e3-93b7-bdcca8f94175",
   "metadata": {},
   "outputs": [
    {
     "name": "stdout",
     "output_type": "stream",
     "text": [
      "1.2\n",
      "12.6\n",
      "26\n",
      "100.0\n"
     ]
    }
   ],
   "source": [
    "# Write a program to print all numeric values in a list\n",
    "# Item = ['apple', 1.2, 'google', '12.6', 26, '100']\n",
    "#-----------------------------------------------------#\n",
    "\n",
    "items = ['apple', 1.2, 'google', '12.6', 26, '100']\n",
    "for item in items:\n",
    "    if isinstance(item,(int,float)):\n",
    "        print(item)\n",
    "    elif isinstance(item, str):\n",
    "        try:\n",
    "            num = float(item)\n",
    "            print(num)\n",
    "        except ValueError:\n",
    "            pass"
   ]
  },
  {
   "cell_type": "code",
   "execution_count": 17,
   "id": "7b6ccbc8-85b6-4add-b0bd-22c9b26b1256",
   "metadata": {},
   "outputs": [
    {
     "name": "stdout",
     "output_type": "stream",
     "text": [
      "321.0\n",
      "543.0\n",
      "Hari\n",
      "5.521\n"
     ]
    }
   ],
   "source": [
    "# Write a function which takes a list of strings and integers. If the item is a string it should print as is\n",
    "# and if the item is integer or float it should reverse it.\n",
    "# l = [123, 345, \"Hari\", 125.5]\n",
    "#----------------------------------------------------------------------------------------------------------#\n",
    "\n",
    "def reverse_numeric_strings(lst):\n",
    "    for item in lst:\n",
    "        if isinstance(item, (int, float)):\n",
    "            print(float(str(item)[::-1]))\n",
    "        else:\n",
    "            print(item)\n",
    "l = [123, 345, \"Hari\", 125.5]\n",
    "reverse_numeric_strings(l)"
   ]
  },
  {
   "cell_type": "code",
   "execution_count": 27,
   "id": "eeee56a9-af84-4554-ac0f-d4affe175e18",
   "metadata": {},
   "outputs": [
    {
     "name": "stdout",
     "output_type": "stream",
     "text": [
      "[33, 33, 7, 8, 33]\n"
     ]
    }
   ],
   "source": [
    "# Function should accept a list and if any number divisible by 3 then modify to 33 or else keep it as it is\n",
    "# s = [3, 6, 7, 8, 9]\n",
    "#---------------------------------------------------------------------------------------------------------#\n",
    "\n",
    "def modify_list(list):\n",
    "    modified_list = []\n",
    "    for num in list:\n",
    "        if num % 3 == 0:\n",
    "            modified_list.append(33)\n",
    "        else:\n",
    "            modified_list.append(num)\n",
    "    return modified_list\n",
    "abc = [3, 6, 7, 8, 9]\n",
    "modified_list = modify_list(abc)\n",
    "print(modified_list)"
   ]
  },
  {
   "cell_type": "code",
   "execution_count": 36,
   "id": "4885181f-28eb-40f0-9ef5-aff188d7de70",
   "metadata": {},
   "outputs": [
    {
     "name": "stdin",
     "output_type": "stream",
     "text": [
      "Enter the word which you want to convert to :-  Hello World\n"
     ]
    },
    {
     "name": "stdout",
     "output_type": "stream",
     "text": [
      "Original String :-  Hello World\n",
      "Converted String :-  hELLO wORLD\n"
     ]
    }
   ],
   "source": [
    "#Write a function to convert upper case to lower case and vice-versa without using inbuilt methods\n",
    "# type :- Hello World\n",
    "#------------------------------------------------------------------------------------------------#\n",
    "\n",
    "def convert_case(string):\n",
    "    converted_string = ''\n",
    "    for char in string:\n",
    "        if 'A' <= char <= 'Z':\n",
    "            converted_string += chr(ord(char) + 32)\n",
    "        elif 'a' <= char <= 'z':\n",
    "            converted_string += chr(ord(char) - 32)\n",
    "        else:\n",
    "            converted_string += char\n",
    "    return converted_string\n",
    "input_string = input(\"Enter the word which you want to convert to :- \")\n",
    "print(\"Original String :- \", input_string)\n",
    "print(\"Converted String :- \", convert_case(input_string))"
   ]
  },
  {
   "cell_type": "code",
   "execution_count": 35,
   "id": "b83d7f9c-1e1f-4e49-aa57-a1f7b8ed7146",
   "metadata": {},
   "outputs": [
    {
     "name": "stdin",
     "output_type": "stream",
     "text": [
      "Enter a number to check if it's prime (type 'exit' to quit):  5\n"
     ]
    },
    {
     "name": "stdout",
     "output_type": "stream",
     "text": [
      "5 is a prime number\n"
     ]
    },
    {
     "name": "stdin",
     "output_type": "stream",
     "text": [
      "Enter a number to check if it's prime (type 'exit' to quit):  6\n"
     ]
    },
    {
     "name": "stdout",
     "output_type": "stream",
     "text": [
      "6 is not a prime number\n"
     ]
    },
    {
     "name": "stdin",
     "output_type": "stream",
     "text": [
      "Enter a number to check if it's prime (type 'exit' to quit):  1\n"
     ]
    },
    {
     "name": "stdout",
     "output_type": "stream",
     "text": [
      "1 is not a prime number\n"
     ]
    },
    {
     "name": "stdin",
     "output_type": "stream",
     "text": [
      "Enter a number to check if it's prime (type 'exit' to quit):  3\n"
     ]
    },
    {
     "name": "stdout",
     "output_type": "stream",
     "text": [
      "3 is a prime number\n"
     ]
    },
    {
     "name": "stdin",
     "output_type": "stream",
     "text": [
      "Enter a number to check if it's prime (type 'exit' to quit):  2\n"
     ]
    },
    {
     "name": "stdout",
     "output_type": "stream",
     "text": [
      "2 is a prime number\n"
     ]
    },
    {
     "name": "stdin",
     "output_type": "stream",
     "text": [
      "Enter a number to check if it's prime (type 'exit' to quit):  exit\n"
     ]
    },
    {
     "name": "stdout",
     "output_type": "stream",
     "text": [
      "Exiting the program.\n"
     ]
    }
   ],
   "source": [
    "# Write a function to check if the number is Prime\n",
    "# The prime numbers from 1 to 100 are :- 2, 3, 5, 7, 11, 13, 17, 19, 23, 29, 31, 37, 41, 43, 47, 53, 59, 61, 67, 71, 73, 79, 83, 89, 97.\n",
    "#--------------------------------------------------------------------------------------------------------------------------------------#\n",
    "\n",
    "\n",
    "def is_prime(number):\n",
    "    if number <= 1:\n",
    "        return False\n",
    "    elif number <= 3:\n",
    "        return True\n",
    "    elif number % 2 == 0 or number % 3 == 0:\n",
    "        return False\n",
    "    i = 5\n",
    "    while i * i <= number:\n",
    "        if number % i == 0 or number % (i + 2) == 0:\n",
    "            return False\n",
    "        i += 6\n",
    "    return True\n",
    "while True:\n",
    "    user_input = input(\"Enter a number to check if it's prime (type 'exit' to quit): \")\n",
    "    if user_input.lower() == 'exit':\n",
    "        print(\"Exiting the program.\")\n",
    "        break\n",
    "    try:\n",
    "        num = int(user_input)\n",
    "        if is_prime(num):\n",
    "            print(f\"{num} is a prime number\")\n",
    "        else:\n",
    "            print(f\"{num} is not a prime number\")\n",
    "    except ValueError:\n",
    "        print(\"Please enter a valid number or type 'exit' to quit.\")"
   ]
  },
  {
   "cell_type": "code",
   "execution_count": null,
   "id": "d92be9d6-2946-4f81-9454-fe39a013e216",
   "metadata": {},
   "outputs": [],
   "source": []
  }
 ],
 "metadata": {
  "kernelspec": {
   "display_name": "Python 3 (ipykernel)",
   "language": "python",
   "name": "python3"
  },
  "language_info": {
   "codemirror_mode": {
    "name": "ipython",
    "version": 3
   },
   "file_extension": ".py",
   "mimetype": "text/x-python",
   "name": "python",
   "nbconvert_exporter": "python",
   "pygments_lexer": "ipython3",
   "version": "3.12.2"
  }
 },
 "nbformat": 4,
 "nbformat_minor": 5
}
