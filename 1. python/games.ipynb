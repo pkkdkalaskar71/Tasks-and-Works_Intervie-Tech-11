{
 "cells": [
  {
   "cell_type": "markdown",
   "id": "cfda72ea-4cd8-4480-b28d-41101f757188",
   "metadata": {},
   "source": [
    "# Games"
   ]
  },
  {
   "cell_type": "markdown",
   "id": "182639f4-48bc-486d-abae-d7c27c774f06",
   "metadata": {},
   "source": [
    "## Python game no. :- 01 - (Guess number)"
   ]
  },
  {
   "cell_type": "code",
   "execution_count": 9,
   "id": "e210771e-2661-464a-93ea-e79f4c18caed",
   "metadata": {},
   "outputs": [
    {
     "name": "stdout",
     "output_type": "stream",
     "text": [
      "Welcome to Guess the Number!\n",
      "I'm thinking of a number between 1 and 100.\n"
     ]
    },
    {
     "name": "stdin",
     "output_type": "stream",
     "text": [
      "Enter your guess:  40\n"
     ]
    },
    {
     "name": "stdout",
     "output_type": "stream",
     "text": [
      "Too high! Try again.\n"
     ]
    },
    {
     "name": "stdin",
     "output_type": "stream",
     "text": [
      "Enter your guess:  39\n"
     ]
    },
    {
     "name": "stdout",
     "output_type": "stream",
     "text": [
      "Too high! Try again.\n"
     ]
    },
    {
     "name": "stdin",
     "output_type": "stream",
     "text": [
      "Enter your guess:  38\n"
     ]
    },
    {
     "name": "stdout",
     "output_type": "stream",
     "text": [
      "Too high! Try again.\n"
     ]
    },
    {
     "name": "stdin",
     "output_type": "stream",
     "text": [
      "Enter your guess:  37\n"
     ]
    },
    {
     "name": "stdout",
     "output_type": "stream",
     "text": [
      "Too high! Try again.\n"
     ]
    },
    {
     "name": "stdin",
     "output_type": "stream",
     "text": [
      "Enter your guess:  36\n"
     ]
    },
    {
     "name": "stdout",
     "output_type": "stream",
     "text": [
      "Too high! Try again.\n"
     ]
    },
    {
     "name": "stdin",
     "output_type": "stream",
     "text": [
      "Enter your guess:  35\n"
     ]
    },
    {
     "name": "stdout",
     "output_type": "stream",
     "text": [
      "Too high! Try again.\n"
     ]
    },
    {
     "name": "stdin",
     "output_type": "stream",
     "text": [
      "Enter your guess:  34\n"
     ]
    },
    {
     "name": "stdout",
     "output_type": "stream",
     "text": [
      "Too high! Try again.\n"
     ]
    },
    {
     "name": "stdin",
     "output_type": "stream",
     "text": [
      "Enter your guess:  33\n"
     ]
    },
    {
     "name": "stdout",
     "output_type": "stream",
     "text": [
      "Too high! Try again.\n"
     ]
    },
    {
     "name": "stdin",
     "output_type": "stream",
     "text": [
      "Enter your guess:  32\n"
     ]
    },
    {
     "name": "stdout",
     "output_type": "stream",
     "text": [
      "Too high! Try again.\n"
     ]
    },
    {
     "name": "stdin",
     "output_type": "stream",
     "text": [
      "Enter your guess:  31\n"
     ]
    },
    {
     "name": "stdout",
     "output_type": "stream",
     "text": [
      "Too high! Try again.\n"
     ]
    },
    {
     "name": "stdin",
     "output_type": "stream",
     "text": [
      "Enter your guess:  30\n"
     ]
    },
    {
     "name": "stdout",
     "output_type": "stream",
     "text": [
      "Too high! Try again.\n"
     ]
    },
    {
     "name": "stdin",
     "output_type": "stream",
     "text": [
      "Enter your guess:  1\n"
     ]
    },
    {
     "name": "stdout",
     "output_type": "stream",
     "text": [
      "Too low! Try again.\n"
     ]
    },
    {
     "name": "stdin",
     "output_type": "stream",
     "text": [
      "Enter your guess:  2\n"
     ]
    },
    {
     "name": "stdout",
     "output_type": "stream",
     "text": [
      "Too low! Try again.\n"
     ]
    },
    {
     "name": "stdin",
     "output_type": "stream",
     "text": [
      "Enter your guess:  3\n"
     ]
    },
    {
     "name": "stdout",
     "output_type": "stream",
     "text": [
      "Congratulations! You've guessed the number 3 in 14 attempts!\n"
     ]
    }
   ],
   "source": [
    "import random\n",
    "\n",
    "def guess_the_number():\n",
    "    print(\"Welcome to Guess the Number!\")\n",
    "    print(\"I'm thinking of a number between 1 and 100.\")\n",
    "    secret_number = random.randint(1, 100)\n",
    "    attempts = 0\n",
    "\n",
    "    while True:\n",
    "        try:\n",
    "            guess = int(input(\"Enter your guess: \"))\n",
    "            attempts += 1\n",
    "\n",
    "            if guess < secret_number:\n",
    "                print(\"Too low! Try again.\")\n",
    "            elif guess > secret_number:\n",
    "                print(\"Too high! Try again.\")\n",
    "            else:\n",
    "                print(f\"Congratulations! You've guessed the number {secret_number} in {attempts} attempts!\")\n",
    "                break\n",
    "        except ValueError:\n",
    "            print(\"Invalid input! Please enter a valid number.\")\n",
    "\n",
    "if __name__ == \"__main__\":\n",
    "    guess_the_number()\n"
   ]
  },
  {
   "cell_type": "code",
   "execution_count": 1,
   "id": "cb4ce8ba-bdbd-4e6a-9eec-25ff06d04426",
   "metadata": {},
   "outputs": [],
   "source": [
    "import tkinter as tk\n",
    "from tkinter import messagebox\n",
    "import random\n",
    "\n",
    "class GuessTheNumberGame:\n",
    "    def __init__(self, root):\n",
    "        self.root = root\n",
    "        self.root.title(\"Guess the Number\")\n",
    "\n",
    "        # Initialize game variables\n",
    "        self.secret_number = random.randint(1, 100)\n",
    "        self.attempts = 0\n",
    "\n",
    "        # Create widgets\n",
    "        self.label = tk.Label(root, text=\"I'm thinking of a number between 1 and 100.\")\n",
    "        self.label.pack(pady=10)\n",
    "\n",
    "        self.entry = tk.Entry(root)\n",
    "        self.entry.pack(pady=10)\n",
    "\n",
    "        self.button = tk.Button(root, text=\"Submit Guess\", command=self.check_guess)\n",
    "        self.button.pack(pady=10)\n",
    "\n",
    "        self.result_label = tk.Label(root, text=\"\")\n",
    "        self.result_label.pack(pady=10)\n",
    "\n",
    "        self.attempts_label = tk.Label(root, text=\"Attempts: 0\")\n",
    "        self.attempts_label.pack(pady=10)\n",
    "\n",
    "    def check_guess(self):\n",
    "        try:\n",
    "            guess = int(self.entry.get())\n",
    "            self.attempts += 1\n",
    "            self.attempts_label.config(text=f\"Attempts: {self.attempts}\")\n",
    "\n",
    "            if guess < self.secret_number:\n",
    "                self.result_label.config(text=\"Too low! Try again.\")\n",
    "            elif guess > self.secret_number:\n",
    "                self.result_label.config(text=\"Too high! Try again.\")\n",
    "            else:\n",
    "                messagebox.showinfo(\"Congratulations!\", f\"You've guessed the number {self.secret_number} in {self.attempts} attempts!\")\n",
    "                self.reset_game()\n",
    "        except ValueError:\n",
    "            self.result_label.config(text=\"Invalid input! Please enter a valid number.\")\n",
    "            self.entry.delete(0, tk.END)\n",
    "\n",
    "    def reset_game(self):\n",
    "        self.secret_number = random.randint(1, 100)\n",
    "        self.attempts = 0\n",
    "        self.attempts_label.config(text=\"Attempts: 0\")\n",
    "        self.result_label.config(text=\"\")\n",
    "        self.entry.delete(0, tk.END)\n",
    "\n",
    "if __name__ == \"__main__\":\n",
    "    root = tk.Tk()\n",
    "    game = GuessTheNumberGame(root)\n",
    "    root.mainloop()"
   ]
  },
  {
   "cell_type": "markdown",
   "id": "747aa617-ef7e-4739-8e90-50892b035ead",
   "metadata": {},
   "source": [
    "## Python game no. :- 02 - (Guess word)"
   ]
  },
  {
   "cell_type": "code",
   "execution_count": 10,
   "id": "cb41804c-0dad-4309-98c5-47737cb366fd",
   "metadata": {},
   "outputs": [
    {
     "name": "stdout",
     "output_type": "stream",
     "text": [
      "Welcome to Hangman!\n",
      "Try to guess the word.\n",
      "\n",
      "Word: _____\n",
      "Attempts left: 6\n"
     ]
    },
    {
     "name": "stdin",
     "output_type": "stream",
     "text": [
      "Enter a letter:  a\n"
     ]
    },
    {
     "name": "stdout",
     "output_type": "stream",
     "text": [
      "Correct guess!\n",
      "\n",
      "Word: __a__\n",
      "Attempts left: 6\n"
     ]
    },
    {
     "name": "stdin",
     "output_type": "stream",
     "text": [
      "Enter a letter:  b\n"
     ]
    },
    {
     "name": "stdout",
     "output_type": "stream",
     "text": [
      "Incorrect guess!\n",
      "\n",
      "Word: __a__\n",
      "Attempts left: 5\n"
     ]
    },
    {
     "name": "stdin",
     "output_type": "stream",
     "text": [
      "Enter a letter:  p\n"
     ]
    },
    {
     "name": "stdout",
     "output_type": "stream",
     "text": [
      "Correct guess!\n",
      "\n",
      "Word: __ap_\n",
      "Attempts left: 5\n"
     ]
    },
    {
     "name": "stdin",
     "output_type": "stream",
     "text": [
      "Enter a letter:  p\n"
     ]
    },
    {
     "name": "stdout",
     "output_type": "stream",
     "text": [
      "You've already guessed this letter.\n",
      "\n",
      "Word: __ap_\n",
      "Attempts left: 5\n"
     ]
    },
    {
     "name": "stdin",
     "output_type": "stream",
     "text": [
      "Enter a letter:  c\n"
     ]
    },
    {
     "name": "stdout",
     "output_type": "stream",
     "text": [
      "Incorrect guess!\n",
      "\n",
      "Word: __ap_\n",
      "Attempts left: 4\n"
     ]
    },
    {
     "name": "stdin",
     "output_type": "stream",
     "text": [
      "Enter a letter:  g\n"
     ]
    },
    {
     "name": "stdout",
     "output_type": "stream",
     "text": [
      "Correct guess!\n",
      "\n",
      "Word: g_ap_\n",
      "Attempts left: 4\n"
     ]
    },
    {
     "name": "stdin",
     "output_type": "stream",
     "text": [
      "Enter a letter:  r\n"
     ]
    },
    {
     "name": "stdout",
     "output_type": "stream",
     "text": [
      "Correct guess!\n",
      "\n",
      "Word: grap_\n",
      "Attempts left: 4\n"
     ]
    },
    {
     "name": "stdin",
     "output_type": "stream",
     "text": [
      "Enter a letter:  e\n"
     ]
    },
    {
     "name": "stdout",
     "output_type": "stream",
     "text": [
      "Correct guess!\n",
      "\n",
      "Congratulations! You guessed the word 'grape'!\n"
     ]
    }
   ],
   "source": [
    "import random\n",
    "\n",
    "def choose_word():\n",
    "    words = [\"apple\", \"banana\", \"orange\", \"grape\", \"kiwi\", \"pineapple\", \"strawberry\"]\n",
    "    return random.choice(words)\n",
    "\n",
    "def display_word(word, guessed_letters):\n",
    "    displayed_word = \"\"\n",
    "    for letter in word:\n",
    "        if letter in guessed_letters:\n",
    "            displayed_word += letter\n",
    "        else:\n",
    "            displayed_word += \"_\"\n",
    "    return displayed_word\n",
    "\n",
    "def hangman():\n",
    "    word = choose_word()\n",
    "    guessed_letters = []\n",
    "    attempts = 6\n",
    "\n",
    "    print(\"Welcome to Hangman!\")\n",
    "    print(\"Try to guess the word.\")\n",
    "\n",
    "    while attempts > 0:\n",
    "        print(f\"\\nWord: {display_word(word, guessed_letters)}\")\n",
    "        print(f\"Attempts left: {attempts}\")\n",
    "        guess = input(\"Enter a letter: \").lower()\n",
    "\n",
    "        if len(guess) != 1 or not guess.isalpha():\n",
    "            print(\"Please enter a single letter.\")\n",
    "            continue\n",
    "        \n",
    "        if guess in guessed_letters:\n",
    "            print(\"You've already guessed this letter.\")\n",
    "            continue\n",
    "\n",
    "        guessed_letters.append(guess)\n",
    "\n",
    "        if guess not in word:\n",
    "            print(\"Incorrect guess!\")\n",
    "            attempts -= 1\n",
    "        else:\n",
    "            print(\"Correct guess!\")\n",
    "\n",
    "        if all(letter in guessed_letters for letter in word):\n",
    "            print(f\"\\nCongratulations! You guessed the word '{word}'!\")\n",
    "            break\n",
    "\n",
    "    else:\n",
    "        print(\"\\nGame over! You've run out of attempts.\")\n",
    "        print(f\"The word was '{word}'.\")\n",
    "\n",
    "if __name__ == \"__main__\":\n",
    "    hangman()\n"
   ]
  },
  {
   "cell_type": "markdown",
   "id": "792c87d5-c7b3-474b-b1bd-4ddb4826ed24",
   "metadata": {},
   "source": [
    "## Python game no. :- 03 - (Tic-Tac-Toe)"
   ]
  },
  {
   "cell_type": "code",
   "execution_count": 6,
   "id": "d37f29d6-0e05-4c5f-99c4-8e0cca42e34c",
   "metadata": {},
   "outputs": [
    {
     "name": "stdout",
     "output_type": "stream",
     "text": [
      "Welcome to Tic-Tac-Toe!\n",
      "  |   |  \n",
      "-----\n",
      "  |   |  \n",
      "-----\n",
      "  |   |  \n",
      "-----\n"
     ]
    },
    {
     "name": "stdin",
     "output_type": "stream",
     "text": [
      "Player X, enter row (0, 1, or 2) :-  0\n",
      "Player X, enter column (0, 1, or 2) :-  0\n"
     ]
    },
    {
     "name": "stdout",
     "output_type": "stream",
     "text": [
      "X |   |  \n",
      "-----\n",
      "  |   |  \n",
      "-----\n",
      "  |   |  \n",
      "-----\n"
     ]
    },
    {
     "name": "stdin",
     "output_type": "stream",
     "text": [
      "Player O, enter row (0, 1, or 2) :-  1\n",
      "Player O, enter column (0, 1, or 2) :-  1\n"
     ]
    },
    {
     "name": "stdout",
     "output_type": "stream",
     "text": [
      "X |   |  \n",
      "-----\n",
      "  | O |  \n",
      "-----\n",
      "  |   |  \n",
      "-----\n"
     ]
    },
    {
     "name": "stdin",
     "output_type": "stream",
     "text": [
      "Player X, enter row (0, 1, or 2) :-  0\n",
      "Player X, enter column (0, 1, or 2) :-  1\n"
     ]
    },
    {
     "name": "stdout",
     "output_type": "stream",
     "text": [
      "X | X |  \n",
      "-----\n",
      "  | O |  \n",
      "-----\n",
      "  |   |  \n",
      "-----\n"
     ]
    },
    {
     "name": "stdin",
     "output_type": "stream",
     "text": [
      "Player O, enter row (0, 1, or 2) :-  2\n",
      "Player O, enter column (0, 1, or 2) :-  2\n"
     ]
    },
    {
     "name": "stdout",
     "output_type": "stream",
     "text": [
      "X | X |  \n",
      "-----\n",
      "  | O |  \n",
      "-----\n",
      "  |   | O\n",
      "-----\n"
     ]
    },
    {
     "name": "stdin",
     "output_type": "stream",
     "text": [
      "Player X, enter row (0, 1, or 2) :-  1\n",
      "Player X, enter column (0, 1, or 2) :-  0\n"
     ]
    },
    {
     "name": "stdout",
     "output_type": "stream",
     "text": [
      "X | X |  \n",
      "-----\n",
      "X | O |  \n",
      "-----\n",
      "  |   | O\n",
      "-----\n"
     ]
    },
    {
     "name": "stdin",
     "output_type": "stream",
     "text": [
      "Player O, enter row (0, 1, or 2) :-  0\n",
      "Player O, enter column (0, 1, or 2) :-  2\n"
     ]
    },
    {
     "name": "stdout",
     "output_type": "stream",
     "text": [
      "X | X | O\n",
      "-----\n",
      "X | O |  \n",
      "-----\n",
      "  |   | O\n",
      "-----\n"
     ]
    },
    {
     "name": "stdin",
     "output_type": "stream",
     "text": [
      "Player X, enter row (0, 1, or 2) :-  2\n",
      "Player X, enter column (0, 1, or 2) :-  0\n"
     ]
    },
    {
     "name": "stdout",
     "output_type": "stream",
     "text": [
      "X | X | O\n",
      "-----\n",
      "X | O |  \n",
      "-----\n",
      "X |   | O\n",
      "-----\n",
      "Congratulations! Player X wins!\n"
     ]
    }
   ],
   "source": [
    "def print_board(board):\n",
    "    for row in board:\n",
    "        print(\" | \".join(row))\n",
    "        print(\"-\" * 5)\n",
    "\n",
    "def check_winner(board):\n",
    "    # Check rows\n",
    "    for row in board:\n",
    "        if row[0] == row[1] == row[2] != \" \":\n",
    "            return row[0]\n",
    "\n",
    "    # Check columns\n",
    "    for col in range(3):\n",
    "        if board[0][col] == board[1][col] == board[2][col] != \" \":\n",
    "            return board[0][col]\n",
    "\n",
    "    # Check diagonals\n",
    "    if board[0][0] == board[1][1] == board[2][2] != \" \":\n",
    "        return board[0][0]\n",
    "    if board[0][2] == board[1][1] == board[2][0] != \" \":\n",
    "        return board[0][2]\n",
    "\n",
    "    return None\n",
    "\n",
    "def tic_tac_toe():\n",
    "    board = [[\" \" for _ in range(3)] for _ in range(3)]\n",
    "    current_player = \"X\"\n",
    "    winner = None\n",
    "\n",
    "    print(\"Welcome to Tic-Tac-Toe!\")\n",
    "\n",
    "    while True:\n",
    "        print_board(board)\n",
    "        row = int(input(f\"Player {current_player}, enter row (0, 1, or 2) :- \"))\n",
    "        col = int(input(f\"Player {current_player}, enter column (0, 1, or 2) :- \"))\n",
    "\n",
    "        if board[row][col] != \" \":\n",
    "            print(\"That position is already taken! Try again.\")\n",
    "            continue\n",
    "\n",
    "        board[row][col] = current_player\n",
    "        winner = check_winner(board)\n",
    "\n",
    "        if winner:\n",
    "            print_board(board)\n",
    "            print(f\"Congratulations! Player {winner} wins!\")\n",
    "            break\n",
    "        elif all(all(cell != \" \" for cell in row) for row in board):\n",
    "            print_board(board)\n",
    "            print(\"It's a draw!\")\n",
    "            break\n",
    "\n",
    "        current_player = \"O\" if current_player == \"X\" else \"X\"\n",
    "\n",
    "if __name__ == \"__main__\":\n",
    "    tic_tac_toe()\n"
   ]
  },
  {
   "cell_type": "code",
   "execution_count": null,
   "id": "7d16d3f6-a687-4cd6-8cca-8fa6fcf2b2ef",
   "metadata": {},
   "outputs": [],
   "source": []
  }
 ],
 "metadata": {
  "kernelspec": {
   "display_name": "Python 3 (ipykernel)",
   "language": "python",
   "name": "python3"
  },
  "language_info": {
   "codemirror_mode": {
    "name": "ipython",
    "version": 3
   },
   "file_extension": ".py",
   "mimetype": "text/x-python",
   "name": "python",
   "nbconvert_exporter": "python",
   "pygments_lexer": "ipython3",
   "version": "3.12.4"
  }
 },
 "nbformat": 4,
 "nbformat_minor": 5
}
