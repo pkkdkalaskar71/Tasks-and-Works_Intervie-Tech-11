{
 "cells": [
  {
   "cell_type": "markdown",
   "id": "75fa21a6-9e9f-4096-b456-4ceab6f1e833",
   "metadata": {},
   "source": [
    "#### Pralay K Kalaskar\n",
    "#### (pkkdkalaskar71@gmail.com)\n",
    "#### (pralay20@nsb.edu.in)\n",
    "#### +91-7066216365\n",
    "#### www.linkedin.com/in/pralay-kalaskar-1010\n",
    "#### https://github.com/pkkdkalaskar71?tab=repositories"
   ]
  },
  {
   "cell_type": "markdown",
   "id": "c9b4df66-2074-41d0-9e23-ac9d13c044d8",
   "metadata": {},
   "source": [
    "##### Class Tasks given by sir during class"
   ]
  },
  {
   "cell_type": "code",
   "execution_count": 2,
   "id": "5888246d-44ea-4807-8a5d-fcc61e0e0f8a",
   "metadata": {},
   "outputs": [
    {
     "name": "stdin",
     "output_type": "stream",
     "text": [
      "Enter Username :-  rahul\n"
     ]
    },
    {
     "name": "stdout",
     "output_type": "stream",
     "text": [
      "Correct Username\n"
     ]
    },
    {
     "name": "stdin",
     "output_type": "stream",
     "text": [
      "Enter Passkey :-  12345\n"
     ]
    },
    {
     "name": "stdout",
     "output_type": "stream",
     "text": [
      "Correct Password\n",
      "You have successfully logged in !!!!\n"
     ]
    }
   ],
   "source": [
    "# 06-march-2024 :- 01 - task\n",
    "# username = \"rahul\"\n",
    "# passkey = 12345\n",
    "#--------------------------#\n",
    "\n",
    "username = input('Enter Username :- ')\n",
    "if username == 'rahul':\n",
    "    print('Correct Username')\n",
    "    passkey = int(input('Enter Passkey :- '))\n",
    "    if passkey == 12345:\n",
    "        print('Correct Password')\n",
    "        print('You have successfully logged in !!!!')\n",
    "    else:\n",
    "        print('Wrong Passkey entered')\n",
    "        print('Kindly try with another Passkey')\n",
    "else:\n",
    "    print('Wrong Username entered')\n",
    "    print('Please try again with different Username')"
   ]
  },
  {
   "cell_type": "code",
   "execution_count": 5,
   "id": "03713807-8125-4ee5-bc28-bb6293d48649",
   "metadata": {},
   "outputs": [
    {
     "name": "stdout",
     "output_type": "stream",
     "text": [
      "Even length words are :-  ['kivi', 'orange', 'ball', 'grapes', 'hp', 'dell', 'python', 'am', 'link', 'keywords']\n",
      "Odd length words are :-  ['a', 'apple', 'laxmi', 'key', 'keyword', 'and']\n"
     ]
    }
   ],
   "source": [
    "# 07-march-2024 :- 02 - task\n",
    "# list = ['a','apple','kivi','orange','ball','grapes','hp','dell','laxmi','python','am','link','key','keyword','keywords','and']\n",
    "# separate odd character in one list and even character in other list\n",
    "# odd_character_words = ['a','apple','laxmi','key','keyword','and']\n",
    "# even_character_words = ['kivi', 'orange','ball','grapes','hp','dell','python','am','link','keywords']\n",
    "#------------------------------------------------------------------------------------------------------------------------------#\n",
    "\n",
    "list = ['a','apple','kivi','orange','ball','grapes','hp','dell','laxmi','python','am','link','key','keyword','keywords','and']\n",
    "even_character_words = []\n",
    "odd_character_words = []\n",
    "for word in list:\n",
    "    if len(word) %2 == 0:\n",
    "        even_character_words.append(word)\n",
    "    else:\n",
    "        odd_character_words.append(word)\n",
    "print('Even length words are :- ', even_character_words)\n",
    "print('Odd length words are :- ', odd_character_words)"
   ]
  },
  {
   "cell_type": "code",
   "execution_count": 9,
   "id": "f826c2d5-5370-462d-ab87-5d16d8e35e46",
   "metadata": {},
   "outputs": [
    {
     "name": "stdout",
     "output_type": "stream",
     "text": [
      "Even length words are :-  ['kivi', 'orange', 'ball', 'grapes', 'hp', 'dell', 'python', 'am', 'link', 'keywords']\n",
      "Odd length words are :-  ['a', 'apple', 'laxmi', 'key', 'keyword', 'and']\n"
     ]
    }
   ],
   "source": [
    "# 07-march-2024 :- 03 - task\n",
    "# list = ['a','apple','kivi','orange','ball','grapes','hp','dell','laxmi','python','am','link','key','keyword','keywords','and']\n",
    "# separate odd character in one list and even character in other list\n",
    "# odd_character_words = ['a','apple','laxmi','key','keyword','and']\n",
    "# even_character_words = ['kivi', 'orange','ball','grapes','hp','dell','python','am','link','keywords']\n",
    "#------------------------------------------------------------------------------------------------------------------------------#\n",
    "\n",
    "list = ['a','apple','kivi','orange','ball','grapes','hp','dell','laxmi','python','am','link','key','keyword','keywords','and']\n",
    "even_character_words = [word for word in list if len(word) % 2 == 0]\n",
    "odd_character_words = [word for word in list if len(word) % 2 != 0]\n",
    "print('Even length words are :- ', even_character_words)\n",
    "print('Odd length words are :- ', odd_character_words)"
   ]
  },
  {
   "cell_type": "code",
   "execution_count": 10,
   "id": "d1745292-aba2-417d-bda0-b0013303b4b9",
   "metadata": {},
   "outputs": [
    {
     "name": "stdout",
     "output_type": "stream",
     "text": [
      "After multiplying each element of list by \"5\" the answer is :-  [5, 10, 25, 15, 20]\n"
     ]
    }
   ],
   "source": [
    "# 07-march-2024 :- 04 - task\n",
    "# list = [1,2,5,3,4]\n",
    "# multiply each item in list with 5 \n",
    "#---------------------------------#\n",
    "\n",
    "list = [1, 2, 5, 3, 4]\n",
    "ans = [e * 5 for e in list]\n",
    "print('After multiplying each element of list by \"5\" the answer is :- ', ans)\n"
   ]
  },
  {
   "cell_type": "code",
   "execution_count": null,
   "id": "88d6f77a-4608-482f-b28c-a2d54a11409b",
   "metadata": {},
   "outputs": [],
   "source": []
  },
  {
   "cell_type": "code",
   "execution_count": 16,
   "id": "987bba86-6dae-4344-a1c1-94d9f1e47f73",
   "metadata": {},
   "outputs": [
    {
     "name": "stdin",
     "output_type": "stream",
     "text": [
      "Enter your username :-  raj\n"
     ]
    },
    {
     "name": "stdout",
     "output_type": "stream",
     "text": [
      "Username not found. Please enter a valid username from the list :-  ['rahul', 'priya', 'rocky']\n"
     ]
    },
    {
     "name": "stdin",
     "output_type": "stream",
     "text": [
      "Enter your username :-  rahul\n",
      "Enter your passkey :-  87987\n"
     ]
    },
    {
     "name": "stdout",
     "output_type": "stream",
     "text": [
      "Incorrect passkey. Please try again with correct passkey.\n"
     ]
    },
    {
     "name": "stdin",
     "output_type": "stream",
     "text": [
      "Enter your username :-  priya\n",
      "Enter your passkey :-  45654\n"
     ]
    },
    {
     "name": "stdout",
     "output_type": "stream",
     "text": [
      "Incorrect passkey. Please try again with correct passkey.\n"
     ]
    },
    {
     "name": "stdin",
     "output_type": "stream",
     "text": [
      "Enter your username :-  rocky\n",
      "Enter your passkey :-  561\n"
     ]
    },
    {
     "name": "stdout",
     "output_type": "stream",
     "text": [
      "Incorrect passkey. Please try again with correct passkey.\n"
     ]
    },
    {
     "name": "stdin",
     "output_type": "stream",
     "text": [
      "Enter your username :-  priya\n",
      "Enter your passkey :-  3210\n"
     ]
    },
    {
     "name": "stdout",
     "output_type": "stream",
     "text": [
      "You have Successfully Logged in !!!\n"
     ]
    }
   ],
   "source": [
    "# 11-march-2024 :- 05 - task\n",
    "# username = ['rahul', 'priya', 'rocky']\n",
    "# passkey = ['1234', '3210', '7890']\n",
    "# any of from \"username\" list or \"passkey\" list is wrong for more than 5 times then the user will locked for 24 hrs\n",
    "#------------------------------------------------------------------------------------------------------------------#\n",
    "\n",
    "username_multi = ['rahul','priya','rocky']\n",
    "passkey_multi = ['1234','3210','7890']\n",
    "tries = 0\n",
    "lock_status = False\n",
    "while tries < 5:\n",
    "    if not lock_status:\n",
    "        username = input(\"Enter your username :- \").lower()\n",
    "        if username in username_multi:\n",
    "            index = username_multi.index(username)\n",
    "            passkey = input(\"Enter your passkey :- \")\n",
    "            if passkey == passkey_multi[index]:\n",
    "                print(\"You have Successfully Logged in !!!\")\n",
    "                break\n",
    "            else:\n",
    "                print(\"Incorrect passkey. Please try again with correct passkey.\")\n",
    "                tries += 1\n",
    "        else:\n",
    "            print(\"Username not found. Please enter a valid username from the list :- \", username_multi)\n",
    "            tries += 1\n",
    "    else:\n",
    "        print(\"Your ID is locked for 24 hrs. Try login after 24 hrs\")\n",
    "        break\n",
    "if tries >= 5:\n",
    "    print(\"Too many attempts tried. Your ID is locked for 24 hours.\")"
   ]
  },
  {
   "cell_type": "code",
   "execution_count": 2,
   "id": "92dc428a-915c-4818-8549-80fb332df3fe",
   "metadata": {},
   "outputs": [
    {
     "name": "stdout",
     "output_type": "stream",
     "text": [
      "* * * * * \n",
      "* * * * * \n",
      "* * * * * \n",
      "* * * * * \n",
      "* * * * * \n"
     ]
    }
   ],
   "source": [
    "# 13-march-2024 :- 06 - task\n",
    "# star design\n",
    "#--------------------------#\n",
    "\n",
    "for i in range (5):\n",
    "    for i in range (5):\n",
    "        print('*', end = ' ')\n",
    "    print()"
   ]
  },
  {
   "cell_type": "code",
   "execution_count": 3,
   "id": "f2321b73-cd24-4bae-8822-260c3c01fa0a",
   "metadata": {},
   "outputs": [
    {
     "name": "stdout",
     "output_type": "stream",
     "text": [
      "* \n",
      "* * \n",
      "* * * \n",
      "* * * * \n",
      "* * * * * \n"
     ]
    }
   ],
   "source": [
    "# 13-march-2024 :- 07 - task\n",
    "# star design\n",
    "#--------------------------#\n",
    "\n",
    "for i in range (5):\n",
    "    for j in range (0, i+1):\n",
    "        print('*', end = ' ')\n",
    "    print()"
   ]
  },
  {
   "cell_type": "code",
   "execution_count": 4,
   "id": "1c50e24f-5b88-4c5c-b6b2-7fa617757071",
   "metadata": {},
   "outputs": [
    {
     "name": "stdout",
     "output_type": "stream",
     "text": [
      "          * \n",
      "        * * \n",
      "      * * * \n",
      "    * * * * \n",
      "  * * * * * \n"
     ]
    }
   ],
   "source": [
    "# 13-march-2024 :- 08 - task\n",
    "# star design\n",
    "#--------------------------#\n",
    "\n",
    "for i in range (5):\n",
    "    for j in range (0, 5-i):\n",
    "        print(' ', end = ' ')\n",
    "    for k in range (0, i+1):\n",
    "        print('*', end = ' ')\n",
    "    print()"
   ]
  },
  {
   "cell_type": "code",
   "execution_count": 15,
   "id": "e1be39e4-b83a-4242-8a41-f072bc5e5732",
   "metadata": {},
   "outputs": [
    {
     "name": "stdout",
     "output_type": "stream",
     "text": [
      "          * \n",
      "        * * * \n",
      "      * * * * * \n",
      "    * * * * * * * \n",
      "  * * * * * * * * * \n"
     ]
    }
   ],
   "source": [
    "# 13-march-2024 :- 09 - task\n",
    "# joining the above 2 pattern / creating pyramid\n",
    "#----------------------------------------------#\n",
    "\n",
    "for i in range (5):\n",
    "    for j in range (0, 5-i):\n",
    "        print(' ', end = ' ')\n",
    "    for k in range (0, i+1):\n",
    "        print('*', end = ' ')\n",
    "    for j in range (0,i):\n",
    "        print('*', end = ' ')\n",
    "    print()"
   ]
  },
  {
   "cell_type": "code",
   "execution_count": 7,
   "id": "8d3c750f-e13d-4aed-87c5-1d112ac1f6ff",
   "metadata": {},
   "outputs": [
    {
     "name": "stdout",
     "output_type": "stream",
     "text": [
      "* * * * * \n",
      "* * * * \n",
      "* * * \n",
      "* * \n",
      "* \n"
     ]
    }
   ],
   "source": [
    "# 13-march-2024 :- 10 - task\n",
    "# star design\n",
    "#--------------------------#\n",
    "\n",
    "for i in range (5):\n",
    "    for j in range (0, 5-i):\n",
    "        print('*', end = ' ')\n",
    "    print()"
   ]
  },
  {
   "cell_type": "code",
   "execution_count": 6,
   "id": "7088d578-ca7e-4fd5-ba29-5c8edf5e3c99",
   "metadata": {},
   "outputs": [
    {
     "name": "stdout",
     "output_type": "stream",
     "text": [
      "  * * * * * \n",
      "    * * * * \n",
      "      * * * \n",
      "        * * \n",
      "          * \n"
     ]
    }
   ],
   "source": [
    "# 13-march-2024 :- 11 - task\n",
    "# star design\n",
    "#--------------------------#\n",
    "\n",
    "for i in range (5):\n",
    "    for k in range(0, i+1):\n",
    "        print(' ', end = ' ')\n",
    "    for j in range (0, 5-i):\n",
    "        print('*', end = ' ')\n",
    "    print()"
   ]
  },
  {
   "cell_type": "code",
   "execution_count": 16,
   "id": "28a8ced7-df5d-4058-9806-63fc5582f195",
   "metadata": {},
   "outputs": [
    {
     "name": "stdout",
     "output_type": "stream",
     "text": [
      "  * * * * * * * * * \n",
      "    * * * * * * * \n",
      "      * * * * * \n",
      "        * * * \n",
      "          * \n"
     ]
    }
   ],
   "source": [
    "# 13-march-2024 :- 12 - task\n",
    "# joining the above 2 pattern / creating pyramid\n",
    "#----------------------------------------------#\n",
    "\n",
    "for i in range (5):\n",
    "    for k in range (0, i+1):\n",
    "        print(' ', end = ' ')\n",
    "    for j in range (0, 5-i):\n",
    "        print('*', end = ' ')\n",
    "    for j in range (0,4-i):\n",
    "        print('*', end = ' ')\n",
    "    print()"
   ]
  },
  {
   "cell_type": "code",
   "execution_count": 17,
   "id": "35d1718d-8b5f-4a1e-b320-75661920f869",
   "metadata": {},
   "outputs": [
    {
     "name": "stdout",
     "output_type": "stream",
     "text": [
      "          * \n",
      "        * * * \n",
      "      * * * * * \n",
      "    * * * * * * * \n",
      "  * * * * * * * * * \n",
      "    * * * * * * * \n",
      "      * * * * * \n",
      "        * * * \n",
      "          * \n"
     ]
    }
   ],
   "source": [
    "# 13-march-2024 :- 13 - task\n",
    "# combining \"task 09\" and \"task 12\" together into 1\n",
    "# joining the above 2 pyramids to make a kite diagram\n",
    "#---------------------------------------------------#\n",
    "\n",
    "for i in range (4):\n",
    "    for j in range (0, 5-i):\n",
    "        print(' ', end = ' ')\n",
    "    for k in range (0, i+1):\n",
    "        print('*', end = ' ')\n",
    "    for j in range (0,i):\n",
    "        print('*', end = ' ')\n",
    "    print()\n",
    "\n",
    "for i in range (5):\n",
    "    for k in range (0, i+1):\n",
    "        print(' ', end = ' ')\n",
    "    for j in range (0, 5-i):\n",
    "        print('*', end = ' ')\n",
    "    for j in range (0,4-i):\n",
    "        print('*', end = ' ')\n",
    "    print()"
   ]
  },
  {
   "cell_type": "code",
   "execution_count": 18,
   "id": "48486d83-cef0-4b64-b7f7-234d3f41d058",
   "metadata": {},
   "outputs": [
    {
     "name": "stdout",
     "output_type": "stream",
     "text": [
      "Select operation :- \n",
      "1. Addition \n",
      "2. Subtraction \n",
      "3. Multiplication \n",
      "4. Division\n"
     ]
    },
    {
     "name": "stdin",
     "output_type": "stream",
     "text": [
      "Enter choice (1/2/3/4) :-  1\n",
      "Enter first number :-  2\n",
      "Enter second number :-  3\n"
     ]
    },
    {
     "name": "stdout",
     "output_type": "stream",
     "text": [
      "Result :-  5.0\n"
     ]
    }
   ],
   "source": [
    "# 14-march-2024 :- 14 - task\n",
    "# calculator program\n",
    "# simple program\n",
    "# it will run only 1 operation and will exit\n",
    "#------------------------------------------#\n",
    "\n",
    "def add(x, y):\n",
    "    return x + y\n",
    "def sub(x, y):\n",
    "    return x - y\n",
    "def mul(x, y):\n",
    "    return x * y\n",
    "def div(x, y):\n",
    "    if y == 0:\n",
    "        return \"Error! Division by zero.\"\n",
    "    else:\n",
    "        return x / y\n",
    "print(\"Select operation :- \\n1. Addition \\n2. Subtraction \\n3. Multiplication \\n4. Division\")\n",
    "op = input(\"Enter choice (1/2/3/4) :- \")\n",
    "if op in ('1', '2', '3', '4'):\n",
    "    num_1 = float(input(\"Enter first number :- \"))\n",
    "    num_2 = float(input(\"Enter second number :- \"))\n",
    "    if op == '1':\n",
    "        print(\"Result :- \", add(num_1, num_2))\n",
    "    elif op == '2':\n",
    "        print(\"Result :- \", sub(num_1, num_2))\n",
    "    elif op == '3':\n",
    "        print(\"Result :- \", mul(num_1, num_2))\n",
    "    elif op == '4':\n",
    "        print(\"Result :- \", div(num_1, num_2))\n",
    "else:\n",
    "    print(\"Invalid Input\")"
   ]
  },
  {
   "cell_type": "code",
   "execution_count": 3,
   "id": "4b5a9a8f-8438-4e1f-add8-53f0940c9914",
   "metadata": {},
   "outputs": [
    {
     "name": "stdout",
     "output_type": "stream",
     "text": [
      "Select operation :- \n",
      "1. Addition \n",
      "2. Subtraction \n",
      "3. Multiplication \n",
      "4. Division \n",
      "5. Exit\n"
     ]
    },
    {
     "name": "stdin",
     "output_type": "stream",
     "text": [
      "Enter operation number which you want to do (1/2/3/4) :-  1\n",
      "Enter first number :-  2\n",
      "Enter second number :-  3\n"
     ]
    },
    {
     "name": "stdout",
     "output_type": "stream",
     "text": [
      "Result: 5.0\n"
     ]
    },
    {
     "name": "stdin",
     "output_type": "stream",
     "text": [
      "Enter operation number which you want to do (1/2/3/4) :-  2\n",
      "Enter first number :-  2\n",
      "Enter second number :-  3\n"
     ]
    },
    {
     "name": "stdout",
     "output_type": "stream",
     "text": [
      "Result: -1.0\n"
     ]
    },
    {
     "name": "stdin",
     "output_type": "stream",
     "text": [
      "Enter operation number which you want to do (1/2/3/4) :-  3\n",
      "Enter first number :-  3\n",
      "Enter second number :-  5\n"
     ]
    },
    {
     "name": "stdout",
     "output_type": "stream",
     "text": [
      "Result: 15.0\n"
     ]
    },
    {
     "name": "stdin",
     "output_type": "stream",
     "text": [
      "Enter operation number which you want to do (1/2/3/4) :-  4\n",
      "Enter first number :-  9\n",
      "Enter second number :-  6\n"
     ]
    },
    {
     "name": "stdout",
     "output_type": "stream",
     "text": [
      "Result: 1.5\n"
     ]
    },
    {
     "name": "stdin",
     "output_type": "stream",
     "text": [
      "Enter operation number which you want to do (1/2/3/4) :-  6\n"
     ]
    },
    {
     "name": "stdout",
     "output_type": "stream",
     "text": [
      "Please select the option from above\n"
     ]
    },
    {
     "name": "stdin",
     "output_type": "stream",
     "text": [
      "Enter operation number which you want to do (1/2/3/4) :-  4\n",
      "Enter first number :-  9\n",
      "Enter second number :-  6\n"
     ]
    },
    {
     "name": "stdout",
     "output_type": "stream",
     "text": [
      "Result: 1.5\n"
     ]
    },
    {
     "name": "stdin",
     "output_type": "stream",
     "text": [
      "Enter operation number which you want to do (1/2/3/4) :-  5\n"
     ]
    },
    {
     "name": "stdout",
     "output_type": "stream",
     "text": [
      "exit\n"
     ]
    }
   ],
   "source": [
    "# 14-march-2024 :- 15 - task\n",
    "# calculator program\n",
    "# logically completed program\n",
    "# it will keep running the followed operations by user and will exit only if user gives command to do so\n",
    "#------------------------------------------------------------------------------------------------------#\n",
    "\n",
    "def add(x, y):\n",
    "    return x + y\n",
    "def sub(x, y):\n",
    "    return x - y\n",
    "def mul(x, y):\n",
    "    return x * y\n",
    "def div(x, y):\n",
    "    if y == 0:\n",
    "        return \"Cannot divide by zero\"\n",
    "    else:\n",
    "        return x / y\n",
    "print(\"Select operation :- \\n1. Addition \\n2. Subtraction \\n3. Multiplication \\n4. Division \\n5. Exit\")\n",
    "while True:\n",
    "    op = input(\"Enter operation number which you want to do (1/2/3/4) :- \")\n",
    "    if op in ('1', '2', '3', '4'):\n",
    "        num_1 = float(input(\"Enter first number :- \"))\n",
    "        num_2 = float(input(\"Enter second number :- \"))\n",
    "    if op == '1':\n",
    "        print(\"Result:\", add(num_1, num_2))\n",
    "    elif op == '2':\n",
    "        print(\"Result:\", sub(num_1, num_2))\n",
    "    elif op == '3':\n",
    "        print(\"Result:\", mul(num_1, num_2))\n",
    "    elif op == '4':\n",
    "        print(\"Result:\", div(num_1, num_2))\n",
    "    elif op == '5':\n",
    "        print(\"exit\")\n",
    "        break\n",
    "    else:\n",
    "        print(\"Please select the option from above\")"
   ]
  },
  {
   "cell_type": "code",
   "execution_count": 25,
   "id": "811f1cfa-d892-4bc0-9b05-0a1adb825c59",
   "metadata": {},
   "outputs": [],
   "source": [
    "# 15-march-2024 :- 16 - task\n",
    "# print 'hello' 100 times\n",
    "# between 30-50 print 'dude'\n",
    "# between 75-90 print 'hi'\n",
    "# without function\n",
    "#--------------------------#\n",
    "\n",
    "# for i in range(1, 101):\n",
    "#     if 30 <= i <= 50:\n",
    "#         print(f\"{i} :- Dude\")\n",
    "#     elif 75 <= i <= 90:\n",
    "#         print(f\"{i} :- Hi\")\n",
    "#     else:\n",
    "#         print(f\"{i} :- Hello\")\n",
    "\n",
    "\n",
    "# for i in range(1, 101):\n",
    "#     serial_number = f\"{i:03d}\"\n",
    "#     if 30 <= i <= 50:\n",
    "#         print(f\"{serial_number} :- Dude\")\n",
    "#     elif 75 <= i <= 90:\n",
    "#         print(f\"{serial_number} :- Hi\")\n",
    "#     else:\n",
    "#         print(f\"{serial_number} :- Hello\")"
   ]
  },
  {
   "cell_type": "code",
   "execution_count": 26,
   "id": "0367d124-f403-40ad-8a43-375a16acb3c1",
   "metadata": {},
   "outputs": [],
   "source": [
    "# 15-march-2024 :- 17 - task\n",
    "# print 'hello' 100 times\n",
    "# between 30-50 print 'dude'\n",
    "# between 75-90 print 'hi'\n",
    "# with function\n",
    "#--------------------------#\n",
    "\n",
    "# def printing_hello_in_loop():\n",
    "#     for i in range(1, 101):\n",
    "#         if 30 <= i <= 50:\n",
    "#             print(f\"{i} :- Dude\")\n",
    "#         elif 75 <= i <= 90:\n",
    "#             print(f\"{i} :- Hi\")\n",
    "#         else:\n",
    "#             print(f\"{i} :- Hello\")\n",
    "# printing_hello_in_loop()\n",
    "\n",
    "\n",
    "# def printing_hello_in_loop():\n",
    "#     for i in range(1, 101):\n",
    "#         serial_number = f\"{i:03d}\"\n",
    "#         if 30 <= i <= 50:\n",
    "#             print(f\"{serial_number} :- Dude\")\n",
    "#         elif 75 <= i <= 90:\n",
    "#             print(f\"{serial_number} :- Hi\")\n",
    "#         else:\n",
    "#             print(f\"{serial_number} :- Hello\")\n",
    "# printing_hello_in_loop()"
   ]
  },
  {
   "cell_type": "code",
   "execution_count": null,
   "id": "d9657199-228a-4d1e-a137-5cc42bc5e056",
   "metadata": {},
   "outputs": [],
   "source": []
  },
  {
   "cell_type": "code",
   "execution_count": null,
   "id": "3f67499d-c731-4caf-90b5-e6f0e0d546a7",
   "metadata": {},
   "outputs": [],
   "source": []
  },
  {
   "cell_type": "code",
   "execution_count": null,
   "id": "e37b8790-b7a9-43c1-b5d0-e3f0ba3e79e4",
   "metadata": {},
   "outputs": [],
   "source": []
  },
  {
   "cell_type": "code",
   "execution_count": null,
   "id": "89fcc25c-7042-499b-a18a-cb10a29a9c21",
   "metadata": {},
   "outputs": [],
   "source": []
  },
  {
   "cell_type": "code",
   "execution_count": null,
   "id": "dabb02fc-29da-4dfc-893e-c3e2b1d799f2",
   "metadata": {},
   "outputs": [],
   "source": []
  },
  {
   "cell_type": "code",
   "execution_count": null,
   "id": "10ee8f0c-d834-4be2-b2a9-4f1517395236",
   "metadata": {},
   "outputs": [],
   "source": []
  },
  {
   "cell_type": "code",
   "execution_count": null,
   "id": "c6ea1bb9-1f7b-492c-b443-e983c940e887",
   "metadata": {},
   "outputs": [],
   "source": []
  },
  {
   "cell_type": "code",
   "execution_count": null,
   "id": "144d1965-a174-4ec0-9276-00596e94f72e",
   "metadata": {},
   "outputs": [],
   "source": []
  },
  {
   "cell_type": "code",
   "execution_count": null,
   "id": "381e77c5-aad9-4397-a71d-3a9b7e35014b",
   "metadata": {},
   "outputs": [],
   "source": []
  },
  {
   "cell_type": "code",
   "execution_count": null,
   "id": "0eca88fe-d272-4600-b8c0-106eb596a23b",
   "metadata": {},
   "outputs": [],
   "source": []
  },
  {
   "cell_type": "code",
   "execution_count": 1,
   "id": "75cb83af-4d9b-4f4d-b649-7f6d2688176e",
   "metadata": {},
   "outputs": [
    {
     "name": "stdin",
     "output_type": "stream",
     "text": [
      "Enter the word you want to print ('exit' to quit) :-  a\n",
      "Enter the starting serial number :-  1\n",
      "Enter the ending serial number :-   4\n",
      "Enter the word you want to print ('exit' to quit) :-  b\n",
      "Enter the starting serial number :-  5\n",
      "Enter the ending serial number :-   7\n",
      "Enter the word you want to print ('exit' to quit) :-  c\n",
      "Enter the starting serial number :-  8\n",
      "Enter the ending serial number :-   10\n",
      "Enter the word you want to print ('exit' to quit) :-  exit\n"
     ]
    },
    {
     "name": "stdout",
     "output_type": "stream",
     "text": [
      "Exiting program...\n",
      "Total tries: 10\n",
      "Concatenated tries :- \n",
      "1: a\n",
      "2: a\n",
      "3: a\n",
      "4: a\n",
      "5: b\n",
      "6: b\n",
      "7: b\n",
      "8: c\n",
      "9: c\n",
      "10: c\n"
     ]
    }
   ],
   "source": [
    "total_tries = 0\n",
    "all_tries = []\n",
    "while True:\n",
    "    word = input(\"Enter the word you want to print ('exit' to quit) :- \")\n",
    "    if word.lower() == 'exit':\n",
    "        print(\"Exiting program...\")\n",
    "        break\n",
    "    start_serial = int(input(\"Enter the starting serial number :- \"))\n",
    "    end_serial = int(input(\"Enter the ending serial number :-  \"))\n",
    "    if start_serial > end_serial:\n",
    "        print(\"Error: Starting serial number should be less than or equal to the ending serial number.\")\n",
    "        continue\n",
    "    tries = end_serial - start_serial + 1\n",
    "    total_tries += tries\n",
    "    for i in range(start_serial, end_serial + 1):\n",
    "        all_tries.append(f\"{i}: {word}\")\n",
    "print(f\"Total tries: {total_tries}\")\n",
    "print(\"Concatenated tries :- \")\n",
    "print(\"\\n\".join(all_tries))"
   ]
  },
  {
   "cell_type": "code",
   "execution_count": 2,
   "id": "5dde67bb-5e5a-466a-8d47-0039a2e21ace",
   "metadata": {},
   "outputs": [
    {
     "name": "stdin",
     "output_type": "stream",
     "text": [
      "Enter the word you want to print ('quit' to exit):  a\n",
      "Enter the starting serial number :-  1\n",
      "Enter the ending serial number :-  4\n",
      "Enter the word you want to print ('quit' to exit):  b\n",
      "Enter the starting serial number :-  5\n",
      "Enter the ending serial number :-  7\n",
      "Enter the word you want to print ('quit' to exit):  c\n",
      "Enter the starting serial number :-  8\n",
      "Enter the ending serial number :-  10\n",
      "Enter the word you want to print ('quit' to exit):  quit\n"
     ]
    },
    {
     "name": "stdout",
     "output_type": "stream",
     "text": [
      "Exiting program...\n",
      "1: a\n",
      "2: a\n",
      "3: a\n",
      "4: a\n",
      "5: b\n",
      "6: b\n",
      "7: b\n",
      "8: c\n",
      "9: c\n",
      "10: c\n"
     ]
    }
   ],
   "source": [
    "all_tries = []\n",
    "while True:\n",
    "    word = input(\"Enter the word you want to print ('quit' to exit): \")\n",
    "    if word.lower() == 'quit':\n",
    "        print(\"Exiting program...\")\n",
    "        break\n",
    "    start_serial = int(input(\"Enter the starting serial number :- \"))\n",
    "    end_serial = int(input(\"Enter the ending serial number :- \"))\n",
    "    if start_serial > end_serial:\n",
    "        print(\"Error: Starting serial number should be less than or equal to the ending serial number.\")\n",
    "        continue\n",
    "    if len(set(range(start_serial, end_serial + 1))) != (end_serial - start_serial + 1):\n",
    "        print(\"Error :- Serial numbers should be unique.\")\n",
    "        continue\n",
    "    tries = [f\"{i}: {word}\" for i in range(start_serial, end_serial + 1)]\n",
    "    all_tries.extend(tries)\n",
    "print(\"\\n\".join(all_tries))"
   ]
  },
  {
   "cell_type": "code",
   "execution_count": null,
   "id": "49d16ed0-b6f1-4279-848d-442dc2816318",
   "metadata": {},
   "outputs": [],
   "source": []
  }
 ],
 "metadata": {
  "kernelspec": {
   "display_name": "Python 3 (ipykernel)",
   "language": "python",
   "name": "python3"
  },
  "language_info": {
   "codemirror_mode": {
    "name": "ipython",
    "version": 3
   },
   "file_extension": ".py",
   "mimetype": "text/x-python",
   "name": "python",
   "nbconvert_exporter": "python",
   "pygments_lexer": "ipython3",
   "version": "3.12.2"
  }
 },
 "nbformat": 4,
 "nbformat_minor": 5
}
