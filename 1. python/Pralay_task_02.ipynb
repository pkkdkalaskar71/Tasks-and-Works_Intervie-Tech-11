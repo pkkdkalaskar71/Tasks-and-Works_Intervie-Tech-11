{
 "cells": [
  {
   "cell_type": "markdown",
   "id": "7bd5e7de-2907-4f69-9116-97e7cba060d1",
   "metadata": {},
   "source": [
    "#### Pralay K Kalaskar\n",
    "#### 23-March-2024 - (only python question.doc)\n",
    "#### (pkkdkalaskar71@gmail.com)\n",
    "#### +91-7066216365"
   ]
  },
  {
   "cell_type": "code",
   "execution_count": null,
   "id": "2ca09f42-fb20-4c42-8238-2161fb1a96e6",
   "metadata": {},
   "outputs": [],
   "source": [
    "# riyaz@learninglabb.com #"
   ]
  },
  {
   "cell_type": "code",
   "execution_count": 22,
   "id": "d6f0dee4-ec7c-4936-b724-c69e0ec357d2",
   "metadata": {},
   "outputs": [
    {
     "name": "stdin",
     "output_type": "stream",
     "text": [
      "Enter words :-  hello world\n",
      "Replace word :-  world\n",
      "Enter a new word for replacement :-  universe\n"
     ]
    },
    {
     "name": "stdout",
     "output_type": "stream",
     "text": [
      "\n",
      "Original string is :-  hello world\n",
      "Changed word is :-  world\n",
      "Replaced string is :-  hello universe\n"
     ]
    }
   ],
   "source": [
    "# Write a program to replace one string with another. e.g. \"Hello World\" replaces \"World\" with \"Universe\"\n",
    "#------------------------------------------------------------------------------------------------------#\n",
    "\n",
    "def replace_string(original_str, old_str, new_str):\n",
    "    index = original_str.find(old_str)\n",
    "    if index != -1:\n",
    "        replaced_str = original_str[:index] + new_str + original_str[index + len(old_str):]\n",
    "        return replaced_str\n",
    "    else:\n",
    "        return original_str\n",
    "original_string = input(\"Enter words :- \")\n",
    "old_substring = input(\"Replace word :- \")\n",
    "new_substring = input(\"Enter a new word for replacement :- \")\n",
    "result_string = replace_string(original_string, old_substring, new_substring)\n",
    "print()\n",
    "print(\"Original string is :- \", original_string)\n",
    "print(\"Changed word is :- \", old_substring)\n",
    "print(\"Replaced string is :- \", result_string)"
   ]
  },
  {
   "cell_type": "code",
   "execution_count": 6,
   "id": "126be02f-6f4a-494d-ac23-ea8819cc590c",
   "metadata": {},
   "outputs": [
    {
     "name": "stdin",
     "output_type": "stream",
     "text": [
      "Enter a string :-  Hi How are you\n"
     ]
    },
    {
     "name": "stdout",
     "output_type": "stream",
     "text": [
      "Output string is :-  iH woH era uoy\n"
     ]
    }
   ],
   "source": [
    "# Write a python program to get the below output sentence = \"Hi How are you\"\n",
    "# o/p : \"iH woH era uoy\"\n",
    "#--------------------------------------------------------------------------#\n",
    "\n",
    "def reverse_words(sentence):\n",
    "    words = sentence.split()\n",
    "    reversed_words = [word[::-1] for word in words]\n",
    "    reversed_sentence = ' '.join(reversed_words)\n",
    "    return reversed_sentence\n",
    "sentence = input(\"Enter a string :- \")\n",
    "reversed_sentence = reverse_words(sentence)\n",
    "print(\"Output string is :- \", reversed_sentence)"
   ]
  },
  {
   "cell_type": "code",
   "execution_count": 23,
   "id": "8f478e3f-1c80-4d17-b585-ece360706272",
   "metadata": {},
   "outputs": [
    {
     "name": "stdin",
     "output_type": "stream",
     "text": [
      "Enter an item (or 'done' to finish) :-  1\n",
      "Enter an item (or 'done' to finish) :-  2\n",
      "Enter an item (or 'done' to finish) :-  3\n",
      "Enter an item (or 'done' to finish) :-  4\n",
      "Enter an item (or 'done' to finish) :-  1\n",
      "Enter an item (or 'done' to finish) :-  2\n",
      "Enter an item (or 'done' to finish) :-  3\n",
      "Enter an item (or 'done' to finish) :-  4\n",
      "Enter an item (or 'done' to finish) :-  5\n",
      "Enter an item (or 'done' to finish) :-  done\n"
     ]
    },
    {
     "name": "stdout",
     "output_type": "stream",
     "text": [
      "List without duplicates :-  [1, 2, 3, 4, 5]\n",
      "\n",
      "<class 'list'>\n",
      "<class 'str'>\n"
     ]
    }
   ],
   "source": [
    "# Question :- 10\n",
    "# How to remove duplicates from the list without using inbuilt functions\n",
    "# items = [1, 2, 3, 4, 1, 2, 3, 4, 5]\n",
    "#----------------------------------------------------------------------#\n",
    "\n",
    "def remove_duplicates(input_list):\n",
    "    unique_list = []\n",
    "    for item in input_list:\n",
    "        if item not in unique_list:\n",
    "            unique_list.append(item)\n",
    "    return unique_list\n",
    "items = []\n",
    "while True:\n",
    "    user_input = input(\"Enter an item (or 'done' to finish) :- \")\n",
    "    if user_input.lower() == 'done':\n",
    "        break\n",
    "    else:\n",
    "        items.append(int(user_input))\n",
    "items = remove_duplicates(items)\n",
    "print(\"List without duplicates :- \", items)\n",
    "print()\n",
    "print(type(items))\n",
    "print(type(user_input))"
   ]
  },
  {
   "cell_type": "code",
   "execution_count": 21,
   "id": "dc4f2dd0-752b-42bc-9541-a38545dab98d",
   "metadata": {},
   "outputs": [
    {
     "name": "stdin",
     "output_type": "stream",
     "text": [
      "Enter a string containing numbers also in it :-  Sony12India567Pvt2ltd\n"
     ]
    },
    {
     "name": "stdout",
     "output_type": "stream",
     "text": [
      "Sum of all the numbers present in the string is :-  23\n"
     ]
    }
   ],
   "source": [
    "# Sum all the numbers in the below string.**\n",
    "# s = \"Sony12India567Pvt2ltd\" eg.1+2+5+6+7+2\n",
    "#------------------------------------------#\n",
    "\n",
    "s = input(\"Enter a string containing numbers also in it :- \")\n",
    "sum = 0\n",
    "for i in s:\n",
    "    if i.isdigit():\n",
    "        sum += int(i)\n",
    "print(\"Sum of all the numbers present in the string is :- \", sum)"
   ]
  },
  {
   "cell_type": "code",
   "execution_count": 28,
   "id": "5f918e4d-389b-48f8-a739-d5660a766e27",
   "metadata": {},
   "outputs": [
    {
     "name": "stdin",
     "output_type": "stream",
     "text": [
      "Enter a number to check if it's prime (type 'exit' to quit) :-  1\n"
     ]
    },
    {
     "name": "stdout",
     "output_type": "stream",
     "text": [
      "1 is not a prime number\n"
     ]
    },
    {
     "name": "stdin",
     "output_type": "stream",
     "text": [
      "Enter a number to check if it's prime (type 'exit' to quit) :-  2\n"
     ]
    },
    {
     "name": "stdout",
     "output_type": "stream",
     "text": [
      "2 is a prime number\n"
     ]
    },
    {
     "name": "stdin",
     "output_type": "stream",
     "text": [
      "Enter a number to check if it's prime (type 'exit' to quit) :-  exit\n"
     ]
    },
    {
     "name": "stdout",
     "output_type": "stream",
     "text": [
      "Exiting the program.\n"
     ]
    }
   ],
   "source": [
    "# Write a function to check if the number is Prime\n",
    "# The prime numbers from 1 to 100 are :- 2, 3, 5, 7, 11, 13, 17, 19, 23, 29, 31, 37, 41, 43, 47, 53, 59, 61, 67, 71, 73, 79, 83, 89, 97.\n",
    "#--------------------------------------------------------------------------------------------------------------------------------------#\n",
    "\n",
    "def is_prime(number):\n",
    "    if number <= 1:\n",
    "        return False\n",
    "    elif number <= 3:\n",
    "        return True\n",
    "    elif number % 2 == 0 or number % 3 == 0:\n",
    "        return False\n",
    "    i = 5\n",
    "    while i * i <= number:\n",
    "        if number % i == 0 or number % (i + 2) == 0:\n",
    "            return False\n",
    "        i += 6\n",
    "    return True\n",
    "while True:\n",
    "    user_input = input(\"Enter a number to check if it's prime (type 'exit' to quit) :- \")\n",
    "    if user_input.lower() == 'exit':\n",
    "        print(\"Exiting the program.\")\n",
    "        break\n",
    "    try:\n",
    "        num = int(user_input)\n",
    "        if is_prime(num):\n",
    "            print(f\"{num} is a prime number\")\n",
    "        else:\n",
    "            print(f\"{num} is not a prime number\")\n",
    "    except ValueError:\n",
    "        print(\"Please enter a valid number or type 'exit' to quit.\")"
   ]
  },
  {
   "cell_type": "code",
   "execution_count": null,
   "id": "229dbb4b-6ff8-4f3f-ab32-6341dce792e8",
   "metadata": {},
   "outputs": [],
   "source": []
  }
 ],
 "metadata": {
  "kernelspec": {
   "display_name": "Python 3 (ipykernel)",
   "language": "python",
   "name": "python3"
  },
  "language_info": {
   "codemirror_mode": {
    "name": "ipython",
    "version": 3
   },
   "file_extension": ".py",
   "mimetype": "text/x-python",
   "name": "python",
   "nbconvert_exporter": "python",
   "pygments_lexer": "ipython3",
   "version": "3.12.2"
  }
 },
 "nbformat": 4,
 "nbformat_minor": 5
}
