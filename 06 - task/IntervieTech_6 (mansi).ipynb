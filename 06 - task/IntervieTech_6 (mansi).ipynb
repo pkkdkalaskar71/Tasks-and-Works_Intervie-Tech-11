{
 "cells": [
  {
   "cell_type": "code",
   "execution_count": 3,
   "metadata": {
    "colab": {
     "base_uri": "https://localhost:8080/"
    },
    "id": "4Rysas6ttGKn",
    "outputId": "54465117-e6d8-4bd0-e8b4-abbb3b8ea338"
   },
   "outputs": [
    {
     "name": "stdout",
     "output_type": "stream",
     "text": [
      "        Unnamed: 0   flight source_city departure_time stops   arrival_time  \\\n",
      "0                0  SG-8709       Delhi        Evening  zero          Night   \n",
      "1                1  SG-8157       Delhi  Early_Morning  zero        Morning   \n",
      "2                2   I5-764       Delhi  Early_Morning  zero  Early_Morning   \n",
      "3                3   UK-995       Delhi        Morning  zero      Afternoon   \n",
      "4                4   UK-963       Delhi        Morning  zero        Morning   \n",
      "...            ...      ...         ...            ...   ...            ...   \n",
      "300148      300148   UK-822     Chennai        Morning   one        Evening   \n",
      "300149      300149   UK-826     Chennai      Afternoon   one          Night   \n",
      "300150      300150   UK-832     Chennai  Early_Morning   one          Night   \n",
      "300151      300151   UK-828     Chennai  Early_Morning   one        Evening   \n",
      "300152      300152   UK-822     Chennai        Morning   one        Evening   \n",
      "\n",
      "       destination_city     class  duration  days_left  \n",
      "0                Mumbai   Economy      2.17          1  \n",
      "1                Mumbai   Economy      2.33          1  \n",
      "2                Mumbai   Economy      2.17          1  \n",
      "3                Mumbai   Economy      2.25          1  \n",
      "4                Mumbai   Economy      2.33          1  \n",
      "...                 ...       ...       ...        ...  \n",
      "300148        Hyderabad  Business     10.08         49  \n",
      "300149        Hyderabad  Business     10.42         49  \n",
      "300150        Hyderabad  Business     13.83         49  \n",
      "300151        Hyderabad  Business     10.00         49  \n",
      "300152        Hyderabad  Business     10.08         49  \n",
      "\n",
      "[300153 rows x 10 columns]\n"
     ]
    }
   ],
   "source": [
    "import pandas as pd\n",
    "df = pd.read_csv(\"https://raw.githubusercontent.com/sukhmani1303/flight-price-prediction/main/Clean_Dataset.csv\")\n",
    "\n",
    "# Specify the columns to drop\n",
    "columns_to_drop = ['airline', 'price']\n",
    "\n",
    "# Use the drop() method to remove the specified columns\n",
    "df = df.drop(columns=columns_to_drop)\n",
    "\n",
    "# Display the updated DataFrame\n",
    "print(df)"
   ]
  }
 ],
 "metadata": {
  "colab": {
   "provenance": []
  },
  "kernelspec": {
   "display_name": "Python 3 (ipykernel)",
   "language": "python",
   "name": "python3"
  },
  "language_info": {
   "codemirror_mode": {
    "name": "ipython",
    "version": 3
   },
   "file_extension": ".py",
   "mimetype": "text/x-python",
   "name": "python",
   "nbconvert_exporter": "python",
   "pygments_lexer": "ipython3",
   "version": "3.12.4"
  }
 },
 "nbformat": 4,
 "nbformat_minor": 4
}
