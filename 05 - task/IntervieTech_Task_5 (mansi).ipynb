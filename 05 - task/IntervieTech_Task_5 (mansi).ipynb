{
 "cells": [
  {
   "cell_type": "code",
   "execution_count": 2,
   "metadata": {
    "colab": {
     "base_uri": "https://localhost:8080/"
    },
    "id": "PWub9uwMWTjY",
    "outputId": "d9a30246-b5f1-4012-b74e-76f45381aabb"
   },
   "outputs": [
    {
     "name": "stdout",
     "output_type": "stream",
     "text": [
      "Value Counts for airline: \n",
      " airline\n",
      "Vistara      127859\n",
      "Air_India     80892\n",
      "Indigo        43120\n",
      "GO_FIRST      23173\n",
      "AirAsia       16098\n",
      "SpiceJet       9011\n",
      "Name: count, dtype: int64\n",
      "\n",
      "Pearson Correlation Matrix:\n",
      "             Unnamed: 0  duration  days_left     price\n",
      "Unnamed: 0    1.000000  0.159007   0.014638  0.761177\n",
      "duration      0.159007  1.000000  -0.039157  0.204222\n",
      "days_left     0.014638 -0.039157   1.000000 -0.091949\n",
      "price         0.761177  0.204222  -0.091949  1.000000\n"
     ]
    }
   ],
   "source": [
    "import pandas as pd\n",
    "\n",
    "data = pd.read_csv('https://raw.githubusercontent.com/sukhmani1303/flight-price-prediction/main/Clean_Dataset.csv')\n",
    "\n",
    "categorical_column_name = 'airline'\n",
    "\n",
    "value_counts = data[categorical_column_name].value_counts()\n",
    "\n",
    "print(\"Value Counts for {}: \\n\".format(categorical_column_name), value_counts)\n",
    "\n",
    "# Select only numeric columns for correlation matrix calculation\n",
    "numeric_data = data.select_dtypes(include=['float64', 'int64'])\n",
    "\n",
    "pearson_correlation_matrix = numeric_data.corr(method='pearson')\n",
    "\n",
    "# Print the Pearson correlation matrix\n",
    "print(\"\\nPearson Correlation Matrix:\\n\", pearson_correlation_matrix)\n"
   ]
  }
 ],
 "metadata": {
  "colab": {
   "provenance": []
  },
  "kernelspec": {
   "display_name": "Python 3 (ipykernel)",
   "language": "python",
   "name": "python3"
  },
  "language_info": {
   "codemirror_mode": {
    "name": "ipython",
    "version": 3
   },
   "file_extension": ".py",
   "mimetype": "text/x-python",
   "name": "python",
   "nbconvert_exporter": "python",
   "pygments_lexer": "ipython3",
   "version": "3.12.4"
  }
 },
 "nbformat": 4,
 "nbformat_minor": 4
}
